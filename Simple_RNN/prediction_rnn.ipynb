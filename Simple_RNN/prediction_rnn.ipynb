{
 "cells": [
  {
   "cell_type": "code",
   "execution_count": 2,
   "metadata": {},
   "outputs": [],
   "source": [
    "## Import libraries and load the model\n",
    "import tensorflow as tf\n",
    "from tensorflow import keras\n",
    "from tensorflow.keras.datasets import imdb\n",
    "from tensorflow.keras.utils import pad_sequences\n",
    "from tensorflow.keras.models import load_model"
   ]
  },
  {
   "cell_type": "code",
   "execution_count": 3,
   "metadata": {},
   "outputs": [],
   "source": [
    "word_idx = imdb.get_word_index()\n",
    "reversed_word_index = {index: word for word, index in word_idx.items()}"
   ]
  },
  {
   "cell_type": "code",
   "execution_count": 53,
   "metadata": {},
   "outputs": [
    {
     "name": "stderr",
     "output_type": "stream",
     "text": [
      "WARNING:absl:Compiled the loaded model, but the compiled metrics have yet to be built. `model.compile_metrics` will be empty until you train or evaluate the model.\n"
     ]
    },
    {
     "data": {
      "text/html": [
       "<pre style=\"white-space:pre;overflow-x:auto;line-height:normal;font-family:Menlo,'DejaVu Sans Mono',consolas,'Courier New',monospace\"><span style=\"font-weight: bold\">Model: \"sequential_3\"</span>\n",
       "</pre>\n"
      ],
      "text/plain": [
       "\u001b[1mModel: \"sequential_3\"\u001b[0m\n"
      ]
     },
     "metadata": {},
     "output_type": "display_data"
    },
    {
     "data": {
      "text/html": [
       "<pre style=\"white-space:pre;overflow-x:auto;line-height:normal;font-family:Menlo,'DejaVu Sans Mono',consolas,'Courier New',monospace\">┏━━━━━━━━━━━━━━━━━━━━━━━━━━━━━━━━━┳━━━━━━━━━━━━━━━━━━━━━━━━┳━━━━━━━━━━━━━━━┓\n",
       "┃<span style=\"font-weight: bold\"> Layer (type)                    </span>┃<span style=\"font-weight: bold\"> Output Shape           </span>┃<span style=\"font-weight: bold\">       Param # </span>┃\n",
       "┡━━━━━━━━━━━━━━━━━━━━━━━━━━━━━━━━━╇━━━━━━━━━━━━━━━━━━━━━━━━╇━━━━━━━━━━━━━━━┩\n",
       "│ embedding_3 (<span style=\"color: #0087ff; text-decoration-color: #0087ff\">Embedding</span>)         │ (<span style=\"color: #00d7ff; text-decoration-color: #00d7ff\">None</span>, <span style=\"color: #00af00; text-decoration-color: #00af00\">500</span>, <span style=\"color: #00af00; text-decoration-color: #00af00\">128</span>)       │     <span style=\"color: #00af00; text-decoration-color: #00af00\">1,280,000</span> │\n",
       "├─────────────────────────────────┼────────────────────────┼───────────────┤\n",
       "│ simple_rnn_3 (<span style=\"color: #0087ff; text-decoration-color: #0087ff\">SimpleRNN</span>)        │ (<span style=\"color: #00d7ff; text-decoration-color: #00d7ff\">None</span>, <span style=\"color: #00af00; text-decoration-color: #00af00\">128</span>)            │        <span style=\"color: #00af00; text-decoration-color: #00af00\">32,896</span> │\n",
       "├─────────────────────────────────┼────────────────────────┼───────────────┤\n",
       "│ dense_3 (<span style=\"color: #0087ff; text-decoration-color: #0087ff\">Dense</span>)                 │ (<span style=\"color: #00d7ff; text-decoration-color: #00d7ff\">None</span>, <span style=\"color: #00af00; text-decoration-color: #00af00\">1</span>)              │           <span style=\"color: #00af00; text-decoration-color: #00af00\">129</span> │\n",
       "└─────────────────────────────────┴────────────────────────┴───────────────┘\n",
       "</pre>\n"
      ],
      "text/plain": [
       "┏━━━━━━━━━━━━━━━━━━━━━━━━━━━━━━━━━┳━━━━━━━━━━━━━━━━━━━━━━━━┳━━━━━━━━━━━━━━━┓\n",
       "┃\u001b[1m \u001b[0m\u001b[1mLayer (type)                   \u001b[0m\u001b[1m \u001b[0m┃\u001b[1m \u001b[0m\u001b[1mOutput Shape          \u001b[0m\u001b[1m \u001b[0m┃\u001b[1m \u001b[0m\u001b[1m      Param #\u001b[0m\u001b[1m \u001b[0m┃\n",
       "┡━━━━━━━━━━━━━━━━━━━━━━━━━━━━━━━━━╇━━━━━━━━━━━━━━━━━━━━━━━━╇━━━━━━━━━━━━━━━┩\n",
       "│ embedding_3 (\u001b[38;5;33mEmbedding\u001b[0m)         │ (\u001b[38;5;45mNone\u001b[0m, \u001b[38;5;34m500\u001b[0m, \u001b[38;5;34m128\u001b[0m)       │     \u001b[38;5;34m1,280,000\u001b[0m │\n",
       "├─────────────────────────────────┼────────────────────────┼───────────────┤\n",
       "│ simple_rnn_3 (\u001b[38;5;33mSimpleRNN\u001b[0m)        │ (\u001b[38;5;45mNone\u001b[0m, \u001b[38;5;34m128\u001b[0m)            │        \u001b[38;5;34m32,896\u001b[0m │\n",
       "├─────────────────────────────────┼────────────────────────┼───────────────┤\n",
       "│ dense_3 (\u001b[38;5;33mDense\u001b[0m)                 │ (\u001b[38;5;45mNone\u001b[0m, \u001b[38;5;34m1\u001b[0m)              │           \u001b[38;5;34m129\u001b[0m │\n",
       "└─────────────────────────────────┴────────────────────────┴───────────────┘\n"
      ]
     },
     "metadata": {},
     "output_type": "display_data"
    },
    {
     "data": {
      "text/html": [
       "<pre style=\"white-space:pre;overflow-x:auto;line-height:normal;font-family:Menlo,'DejaVu Sans Mono',consolas,'Courier New',monospace\"><span style=\"font-weight: bold\"> Total params: </span><span style=\"color: #00af00; text-decoration-color: #00af00\">1,313,027</span> (5.01 MB)\n",
       "</pre>\n"
      ],
      "text/plain": [
       "\u001b[1m Total params: \u001b[0m\u001b[38;5;34m1,313,027\u001b[0m (5.01 MB)\n"
      ]
     },
     "metadata": {},
     "output_type": "display_data"
    },
    {
     "data": {
      "text/html": [
       "<pre style=\"white-space:pre;overflow-x:auto;line-height:normal;font-family:Menlo,'DejaVu Sans Mono',consolas,'Courier New',monospace\"><span style=\"font-weight: bold\"> Trainable params: </span><span style=\"color: #00af00; text-decoration-color: #00af00\">1,313,025</span> (5.01 MB)\n",
       "</pre>\n"
      ],
      "text/plain": [
       "\u001b[1m Trainable params: \u001b[0m\u001b[38;5;34m1,313,025\u001b[0m (5.01 MB)\n"
      ]
     },
     "metadata": {},
     "output_type": "display_data"
    },
    {
     "data": {
      "text/html": [
       "<pre style=\"white-space:pre;overflow-x:auto;line-height:normal;font-family:Menlo,'DejaVu Sans Mono',consolas,'Courier New',monospace\"><span style=\"font-weight: bold\"> Non-trainable params: </span><span style=\"color: #00af00; text-decoration-color: #00af00\">0</span> (0.00 B)\n",
       "</pre>\n"
      ],
      "text/plain": [
       "\u001b[1m Non-trainable params: \u001b[0m\u001b[38;5;34m0\u001b[0m (0.00 B)\n"
      ]
     },
     "metadata": {},
     "output_type": "display_data"
    },
    {
     "data": {
      "text/html": [
       "<pre style=\"white-space:pre;overflow-x:auto;line-height:normal;font-family:Menlo,'DejaVu Sans Mono',consolas,'Courier New',monospace\"><span style=\"font-weight: bold\"> Optimizer params: </span><span style=\"color: #00af00; text-decoration-color: #00af00\">2</span> (12.00 B)\n",
       "</pre>\n"
      ],
      "text/plain": [
       "\u001b[1m Optimizer params: \u001b[0m\u001b[38;5;34m2\u001b[0m (12.00 B)\n"
      ]
     },
     "metadata": {},
     "output_type": "display_data"
    }
   ],
   "source": [
    "model = load_model(\"simple_rnn_imdb.h5\")\n",
    "model.summary()"
   ]
  },
  {
   "cell_type": "code",
   "execution_count": 6,
   "metadata": {},
   "outputs": [
    {
     "data": {
      "text/plain": [
       "[array([[-0.40346262, -0.33938992,  0.3708601 , ...,  0.3069917 ,\n",
       "         -0.36805308, -0.40222713],\n",
       "        [-0.0042973 , -0.01120518,  0.03021043, ...,  0.00565153,\n",
       "         -0.05660033, -0.06169559],\n",
       "        [-0.06432739, -0.03864225,  0.01628039, ..., -0.00442517,\n",
       "         -0.08360713, -0.0618453 ],\n",
       "        ...,\n",
       "        [-0.0672265 ,  0.06908187, -0.04125396, ...,  0.00866468,\n",
       "          0.02601722,  0.0247338 ],\n",
       "        [-0.02022902,  0.02018891,  0.08895811, ...,  0.07540591,\n",
       "          0.01826861, -0.03613683],\n",
       "        [ 0.0270561 , -0.00057706, -0.02673768, ...,  0.00813575,\n",
       "          0.05335535, -0.0437998 ]], dtype=float32),\n",
       " array([[ 0.03258575, -0.10690304, -0.10282367, ...,  0.06308936,\n",
       "         -0.1258478 , -0.0536706 ],\n",
       "        [-0.00199624,  0.02769666, -0.05406607, ..., -0.10533094,\n",
       "          0.10336833, -0.06971084],\n",
       "        [ 0.05836757, -0.01644576, -0.01238938, ..., -0.03053852,\n",
       "         -0.0744803 , -0.09972586],\n",
       "        ...,\n",
       "        [-0.06416029,  0.14693165, -0.10187279, ..., -0.10558312,\n",
       "          0.15081966,  0.03683448],\n",
       "        [ 0.0699567 ,  0.06587292, -0.04353849, ...,  0.01987152,\n",
       "         -0.008758  ,  0.11878572],\n",
       "        [-0.11796549,  0.17287384,  0.09045768, ..., -0.00390492,\n",
       "         -0.0417177 , -0.13577941]], dtype=float32),\n",
       " array([[ 0.16220915, -0.07128135, -0.06190119, ..., -0.0465408 ,\n",
       "          0.06947168, -0.08809142],\n",
       "        [-0.02279724,  0.1655547 ,  0.12284705, ..., -0.12533331,\n",
       "         -0.02008582,  0.00104957],\n",
       "        [-0.06801154,  0.16071258,  0.02796659, ..., -0.11247724,\n",
       "         -0.10462391, -0.08718912],\n",
       "        ...,\n",
       "        [ 0.03830404, -0.09286407,  0.11666302, ..., -0.10085844,\n",
       "         -0.08379456, -0.01284878],\n",
       "        [-0.08888416,  0.07609277,  0.01521566, ..., -0.03772013,\n",
       "          0.07219481,  0.00760424],\n",
       "        [-0.12259162, -0.07573576, -0.21366005, ..., -0.01176168,\n",
       "         -0.02390247, -0.07974555]], dtype=float32),\n",
       " array([-6.21764269e-03,  2.11024322e-02,  1.89218763e-02, -2.51923082e-03,\n",
       "        -1.26194656e-02, -1.91946141e-02,  2.17685476e-02,  4.74389642e-03,\n",
       "         9.86361690e-03, -2.10670615e-03, -8.71133804e-03,  6.55570859e-03,\n",
       "         8.82402156e-03,  1.25377588e-02, -4.74655116e-03, -1.11945160e-03,\n",
       "        -1.73785165e-02,  7.07978557e-04,  9.21009947e-03, -7.22855097e-03,\n",
       "        -3.10309511e-03,  1.20499255e-02, -1.71797327e-03, -1.26773454e-02,\n",
       "         2.12517828e-02,  1.42706437e-02,  1.17904535e-02, -6.36438420e-03,\n",
       "         1.40095269e-02,  1.64852086e-02, -1.18520260e-02,  1.29174329e-02,\n",
       "        -4.64931596e-03, -1.11514237e-02,  1.59856658e-02, -8.23407434e-03,\n",
       "        -1.21256441e-03, -2.85231136e-03,  6.75048074e-03, -2.04817355e-02,\n",
       "         2.90345098e-03, -1.45379389e-02, -1.29005406e-02, -1.29367998e-02,\n",
       "        -6.19774032e-03, -2.12028306e-02, -1.32460315e-02,  1.54732512e-02,\n",
       "        -3.64161970e-04, -1.17628388e-02,  3.00096278e-03, -1.39192324e-02,\n",
       "         8.31680279e-03,  1.38080809e-02,  6.35050423e-03,  3.94604914e-03,\n",
       "         6.76148105e-03, -3.87881976e-03, -7.58064352e-03, -2.57527782e-03,\n",
       "         4.85284207e-03,  1.31466724e-02, -2.19913572e-02, -1.18396226e-02,\n",
       "         5.09387860e-03,  3.08838347e-03, -9.80135053e-03, -1.62277283e-04,\n",
       "        -2.12396751e-03,  9.01634339e-03, -2.00938080e-02, -3.52202542e-03,\n",
       "         1.12445867e-02,  1.01264128e-02,  1.89892724e-02,  1.16174323e-02,\n",
       "        -6.69142744e-03, -2.02687569e-02,  1.04286941e-02, -1.10645276e-02,\n",
       "         6.84974622e-03, -6.81635458e-03, -8.74998141e-03,  4.38808650e-03,\n",
       "         1.08955884e-02,  5.17157558e-03, -5.78138977e-03, -7.02715386e-03,\n",
       "        -4.53423848e-03,  1.63295381e-02,  4.04830743e-03, -1.36952139e-02,\n",
       "        -2.63855476e-02,  3.18725337e-03, -1.24302711e-02, -2.11514607e-02,\n",
       "        -1.86286797e-03,  7.47377053e-03, -2.34416407e-03, -2.91681197e-03,\n",
       "         8.48428439e-03, -4.40620584e-03,  7.71709858e-03, -3.96878552e-03,\n",
       "        -4.81133116e-03, -8.48060381e-03, -1.29697751e-02,  1.30594987e-02,\n",
       "         4.45808284e-03,  1.30066490e-02,  7.98223726e-03, -1.26631036e-02,\n",
       "        -2.17741821e-03,  1.22626275e-02, -4.82231751e-03,  5.67474216e-03,\n",
       "        -1.20081482e-02, -3.16738687e-03, -1.27798244e-02,  4.58230637e-03,\n",
       "         6.42163577e-05, -8.50966945e-03, -1.24599515e-02,  7.42675085e-03,\n",
       "        -3.18741216e-03,  2.03785417e-03, -3.89149832e-03, -2.28697676e-02],\n",
       "       dtype=float32),\n",
       " array([[ 0.21374293],\n",
       "        [ 0.1105029 ],\n",
       "        [ 0.6868497 ],\n",
       "        [ 0.0090019 ],\n",
       "        [-0.0598678 ],\n",
       "        [ 0.07277127],\n",
       "        [-0.20350371],\n",
       "        [ 0.11356711],\n",
       "        [-0.04123357],\n",
       "        [-0.24798538],\n",
       "        [ 0.20293145],\n",
       "        [ 0.14570448],\n",
       "        [ 0.4585521 ],\n",
       "        [ 0.21942525],\n",
       "        [ 0.17104803],\n",
       "        [ 0.24671268],\n",
       "        [ 0.1120468 ],\n",
       "        [ 0.32889107],\n",
       "        [-0.25138867],\n",
       "        [-0.0872471 ],\n",
       "        [ 0.04985822],\n",
       "        [ 0.17903827],\n",
       "        [ 0.184136  ],\n",
       "        [-0.04779701],\n",
       "        [ 0.43324673],\n",
       "        [ 0.64177936],\n",
       "        [-0.13479877],\n",
       "        [ 0.457449  ],\n",
       "        [ 0.09466698],\n",
       "        [ 0.04302474],\n",
       "        [ 0.11129591],\n",
       "        [ 0.07137841],\n",
       "        [-0.09803687],\n",
       "        [-0.5403118 ],\n",
       "        [-0.12006915],\n",
       "        [ 0.22628921],\n",
       "        [-0.03258538],\n",
       "        [ 0.50652045],\n",
       "        [ 0.5280585 ],\n",
       "        [-0.15887834],\n",
       "        [ 0.09342664],\n",
       "        [-0.04952611],\n",
       "        [-0.41701022],\n",
       "        [-0.29557866],\n",
       "        [ 0.13635445],\n",
       "        [ 0.12178639],\n",
       "        [-0.19058487],\n",
       "        [-0.24092859],\n",
       "        [ 0.53027195],\n",
       "        [-0.24702412],\n",
       "        [ 0.00821481],\n",
       "        [-0.483376  ],\n",
       "        [-0.35639846],\n",
       "        [ 0.7344403 ],\n",
       "        [ 0.09995937],\n",
       "        [-0.08395773],\n",
       "        [-0.12876874],\n",
       "        [ 0.43187705],\n",
       "        [ 0.21759048],\n",
       "        [ 0.13152991],\n",
       "        [-0.05898773],\n",
       "        [ 0.4590811 ],\n",
       "        [-0.55415344],\n",
       "        [ 0.13040195],\n",
       "        [-0.01724843],\n",
       "        [-0.08344797],\n",
       "        [ 0.26844367],\n",
       "        [ 0.16255744],\n",
       "        [ 0.10841548],\n",
       "        [-0.10028051],\n",
       "        [ 0.3044014 ],\n",
       "        [ 0.15007392],\n",
       "        [-0.20526037],\n",
       "        [ 0.00354326],\n",
       "        [-0.1699769 ],\n",
       "        [ 0.11352801],\n",
       "        [ 0.03457504],\n",
       "        [-0.08502713],\n",
       "        [-0.44283584],\n",
       "        [-0.01218673],\n",
       "        [ 0.6373385 ],\n",
       "        [-0.23797998],\n",
       "        [ 0.46902937],\n",
       "        [-0.1211798 ],\n",
       "        [-0.2389531 ],\n",
       "        [ 0.21604563],\n",
       "        [ 0.1452592 ],\n",
       "        [-0.12449386],\n",
       "        [-0.0311832 ],\n",
       "        [-0.10435029],\n",
       "        [ 0.09352612],\n",
       "        [ 0.14049041],\n",
       "        [ 0.03568121],\n",
       "        [-0.2209774 ],\n",
       "        [ 0.08726659],\n",
       "        [ 0.12853657],\n",
       "        [ 0.16498786],\n",
       "        [-0.14262567],\n",
       "        [-0.14705993],\n",
       "        [ 0.15513733],\n",
       "        [ 0.00108626],\n",
       "        [ 0.08927831],\n",
       "        [-0.3685274 ],\n",
       "        [ 0.02939203],\n",
       "        [-0.06908562],\n",
       "        [-0.07549813],\n",
       "        [ 0.55020314],\n",
       "        [-0.21332404],\n",
       "        [-0.21638143],\n",
       "        [-0.1035582 ],\n",
       "        [ 0.22414011],\n",
       "        [ 0.10394982],\n",
       "        [-0.01753054],\n",
       "        [ 0.05686754],\n",
       "        [ 0.06959651],\n",
       "        [ 0.20603219],\n",
       "        [ 0.07230557],\n",
       "        [ 0.21484844],\n",
       "        [-0.03627433],\n",
       "        [ 0.06425555],\n",
       "        [-0.07218671],\n",
       "        [ 0.06753933],\n",
       "        [ 0.08734355],\n",
       "        [ 0.09389617],\n",
       "        [ 0.16100012],\n",
       "        [ 0.4367128 ],\n",
       "        [-0.10974868],\n",
       "        [ 0.03186239]], dtype=float32),\n",
       " array([0.5300433], dtype=float32)]"
      ]
     },
     "execution_count": 6,
     "metadata": {},
     "output_type": "execute_result"
    }
   ],
   "source": [
    "model.get_weights()"
   ]
  },
  {
   "cell_type": "code",
   "execution_count": 46,
   "metadata": {},
   "outputs": [],
   "source": [
    "## Step 2: Helper Function\n",
    "# Function to decode the review\n",
    "def decode_review(encoded_review):\n",
    "    return \" \".join([reversed_word_index.get(i-3, \"j\")for i in encoded_review])\n",
    "\n",
    "## FUnction to preprocess user input\n",
    "def preprocess_text(text):\n",
    "    words = text.lower().split()\n",
    "    encoded_review = [word_idx.get(word,2)+3 for word in words]\n",
    "    padding_review = pad_sequences([encoded_review], maxlen = 500)\n",
    "    return padding_review"
   ]
  },
  {
   "cell_type": "code",
   "execution_count": 47,
   "metadata": {},
   "outputs": [],
   "source": [
    "## Prediction function\n",
    "def predict_sentiment(review):\n",
    "    preprocess_input = preprocess_text(review)\n",
    "\n",
    "    predition = model.predict(preprocess_input)\n",
    "\n",
    "    if predition[0][0] > 0.5:\n",
    "        sentiment = \"Positive\"\n",
    "    else:\n",
    "        sentiment = \"Negative\"\n",
    "        \n",
    "    return sentiment, predition[0][0]\n",
    "    "
   ]
  },
  {
   "cell_type": "code",
   "execution_count": 57,
   "metadata": {},
   "outputs": [],
   "source": [
    "example_review = \"I absolutely loved this movie! The storyline was captivating and kept me on the edge of my seat from start to finish.\" "
   ]
  },
  {
   "cell_type": "code",
   "execution_count": 58,
   "metadata": {},
   "outputs": [
    {
     "name": "stdout",
     "output_type": "stream",
     "text": [
      "\u001b[1m1/1\u001b[0m \u001b[32m━━━━━━━━━━━━━━━━━━━━\u001b[0m\u001b[37m\u001b[0m \u001b[1m0s\u001b[0m 46ms/step\n",
      "Review: I absolutely loved this movie! The storyline was captivating and kept me on the edge of my seat from start to finish.\n",
      "Sentiment: Positive\n",
      "Prediction Score: 79.0 %\n"
     ]
    }
   ],
   "source": [
    "sentiment, score = predict_sentiment(example_review)\n",
    "\n",
    "print(f\"Review: {example_review}\")\n",
    "print(f\"Sentiment: {sentiment}\")\n",
    "print(f\"Prediction Score: {round(score*100,2)} %\")\n"
   ]
  },
  {
   "cell_type": "code",
   "execution_count": 50,
   "metadata": {},
   "outputs": [],
   "source": [
    "example_review = \"I was really looking forward to this movie, but it turned out to be a huge disappointment. The plot was boring and predictable, with no real character development. The acting was subpar, and the dialogue felt forced and unnatural.\""
   ]
  },
  {
   "cell_type": "code",
   "execution_count": 56,
   "metadata": {},
   "outputs": [
    {
     "name": "stdout",
     "output_type": "stream",
     "text": [
      "\u001b[1m1/1\u001b[0m \u001b[32m━━━━━━━━━━━━━━━━━━━━\u001b[0m\u001b[37m\u001b[0m \u001b[1m0s\u001b[0m 46ms/step\n",
      "Review: I was really looking forward to this movie, but it turned out to be a huge disappointment. The plot was boring and predictable, with no real character development. The acting was subpar, and the dialogue felt forced and unnatural.\n",
      "Sentiment: Negative\n",
      "Prediction Score: 23.62%\n"
     ]
    }
   ],
   "source": [
    "sentiment, score = predict_sentiment(example_review)\n",
    "\n",
    "print(f\"Review: {example_review}\")\n",
    "print(f\"Sentiment: {sentiment}\")\n",
    "print(f\"Prediction Score: {round(score*100,2)}%\")\n"
   ]
  },
  {
   "cell_type": "code",
   "execution_count": null,
   "metadata": {},
   "outputs": [],
   "source": []
  },
  {
   "cell_type": "code",
   "execution_count": null,
   "metadata": {},
   "outputs": [],
   "source": []
  },
  {
   "cell_type": "code",
   "execution_count": null,
   "metadata": {},
   "outputs": [],
   "source": []
  },
  {
   "cell_type": "code",
   "execution_count": null,
   "metadata": {},
   "outputs": [],
   "source": []
  }
 ],
 "metadata": {
  "kernelspec": {
   "display_name": "Python 3",
   "language": "python",
   "name": "python3"
  },
  "language_info": {
   "codemirror_mode": {
    "name": "ipython",
    "version": 3
   },
   "file_extension": ".py",
   "mimetype": "text/x-python",
   "name": "python",
   "nbconvert_exporter": "python",
   "pygments_lexer": "ipython3",
   "version": "3.12.0"
  }
 },
 "nbformat": 4,
 "nbformat_minor": 2
}
