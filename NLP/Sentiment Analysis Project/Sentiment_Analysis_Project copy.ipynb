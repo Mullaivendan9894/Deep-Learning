{
 "cells": [
  {
   "cell_type": "markdown",
   "metadata": {},
   "source": [
    "# Sentiment Analysis Project (Natural Language Processing)\n",
    "\n",
    "## Overview\n",
    "\n",
    "This project focuses on analyzing the sentiment of tweets using Natural Language Processing (NLP) techniques and Deep Learning models. The objective is to classify the sentiment of tweets into three categories: **Negative**, **Neutral**, and **Positive**.\n",
    "\n",
    "---\n",
    "\n",
    "## Steps and Workflow\n",
    "\n",
    "### 1. **Data Loading and Initial Analysis**\n",
    "In this step, the dataset is loaded from a CSV file using `pandas`. The dataset includes various columns, but for sentiment analysis, we will retain the relevant ones: `candidate`, `sentiment`, and `text`.\n",
    "\n"
   ]
  },
  {
   "cell_type": "markdown",
   "metadata": {},
   "source": [
    "# Overview\n",
    "This project focuses on analyzing the sentiment of tweets using Natural Language Processing (NLP) techniques and Deep Learning models. The objective is to classify the sentiment of tweets into three categories: **Negative**, **Neutral**, and **Positive**."
   ]
  },
  {
   "cell_type": "markdown",
   "metadata": {},
   "source": [
    "### 1. **Data Loading and Initial Analysis**\n",
    "- Load the dataset from a CSV file using `pandas`.\n",
    "- Retain the relevant columns: `candidate`, `sentiment`, and `text`.\n",
    "- Perform an initial inspection of the dataset:\n",
    "  - Check column data types.\n",
    "  - Analyze the distribution of sentiment values."
   ]
  },
  {
   "cell_type": "code",
   "execution_count": 11,
   "metadata": {},
   "outputs": [],
   "source": [
    "import pandas as pd\n",
    "import numpy as np\n",
    "import matplotlib.pyplot as plt\n",
    "import re\n",
    "import nltk\n",
    "from nltk.corpus import stopwords\n",
    "from nltk.stem import WordNetLemmatizer\n",
    "from gensim.models import Word2Vec\n",
    "import contractions\n",
    "from bs4 import BeautifulSoup\n",
    "from sklearn.model_selection import train_test_split\n",
    "from sklearn.metrics import classification_report\n",
    "import tensorflow as tf\n",
    "from tensorflow import keras\n",
    "from tensorflow.keras.utils import to_categorical\n",
    "from tensorflow.keras.preprocessing.text import Tokenizer\n",
    "from tensorflow.keras.preprocessing.sequence import pad_sequences"
   ]
  },
  {
   "cell_type": "code",
   "execution_count": null,
   "metadata": {},
   "outputs": [],
   "source": [
    "nltk.download('punkt')\n",
    "nltk.download('stopwords')\n",
    "nltk.download('wordnet')"
   ]
  },
  {
   "cell_type": "markdown",
   "metadata": {},
   "source": []
  },
  {
   "cell_type": "code",
   "execution_count": 2,
   "metadata": {},
   "outputs": [
    {
     "data": {
      "text/html": [
       "<div>\n",
       "<style scoped>\n",
       "    .dataframe tbody tr th:only-of-type {\n",
       "        vertical-align: middle;\n",
       "    }\n",
       "\n",
       "    .dataframe tbody tr th {\n",
       "        vertical-align: top;\n",
       "    }\n",
       "\n",
       "    .dataframe thead th {\n",
       "        text-align: right;\n",
       "    }\n",
       "</style>\n",
       "<table border=\"1\" class=\"dataframe\">\n",
       "  <thead>\n",
       "    <tr style=\"text-align: right;\">\n",
       "      <th></th>\n",
       "      <th>candidate</th>\n",
       "      <th>sentiment</th>\n",
       "      <th>text</th>\n",
       "    </tr>\n",
       "  </thead>\n",
       "  <tbody>\n",
       "    <tr>\n",
       "      <th>0</th>\n",
       "      <td>No candidate mentioned</td>\n",
       "      <td>Neutral</td>\n",
       "      <td>RT @NancyLeeGrahn: How did everyone feel about...</td>\n",
       "    </tr>\n",
       "    <tr>\n",
       "      <th>1</th>\n",
       "      <td>Scott Walker</td>\n",
       "      <td>Positive</td>\n",
       "      <td>RT @ScottWalker: Didn't catch the full #GOPdeb...</td>\n",
       "    </tr>\n",
       "    <tr>\n",
       "      <th>2</th>\n",
       "      <td>No candidate mentioned</td>\n",
       "      <td>Neutral</td>\n",
       "      <td>RT @TJMShow: No mention of Tamir Rice and the ...</td>\n",
       "    </tr>\n",
       "    <tr>\n",
       "      <th>3</th>\n",
       "      <td>No candidate mentioned</td>\n",
       "      <td>Positive</td>\n",
       "      <td>RT @RobGeorge: That Carly Fiorina is trending ...</td>\n",
       "    </tr>\n",
       "    <tr>\n",
       "      <th>4</th>\n",
       "      <td>Donald Trump</td>\n",
       "      <td>Positive</td>\n",
       "      <td>RT @DanScavino: #GOPDebate w/ @realDonaldTrump...</td>\n",
       "    </tr>\n",
       "  </tbody>\n",
       "</table>\n",
       "</div>"
      ],
      "text/plain": [
       "                candidate sentiment  \\\n",
       "0  No candidate mentioned   Neutral   \n",
       "1            Scott Walker  Positive   \n",
       "2  No candidate mentioned   Neutral   \n",
       "3  No candidate mentioned  Positive   \n",
       "4            Donald Trump  Positive   \n",
       "\n",
       "                                                text  \n",
       "0  RT @NancyLeeGrahn: How did everyone feel about...  \n",
       "1  RT @ScottWalker: Didn't catch the full #GOPdeb...  \n",
       "2  RT @TJMShow: No mention of Tamir Rice and the ...  \n",
       "3  RT @RobGeorge: That Carly Fiorina is trending ...  \n",
       "4  RT @DanScavino: #GOPDebate w/ @realDonaldTrump...  "
      ]
     },
     "execution_count": 2,
     "metadata": {},
     "output_type": "execute_result"
    }
   ],
   "source": [
    "# Step 1: Load Dataset\n",
    "df = pd.read_csv(\"Sentiment.csv\", usecols=[1, 5, 15])\n",
    "df.head()\n"
   ]
  },
  {
   "cell_type": "code",
   "execution_count": 58,
   "metadata": {},
   "outputs": [
    {
     "name": "stdout",
     "output_type": "stream",
     "text": [
      "<class 'pandas.core.frame.DataFrame'>\n",
      "RangeIndex: 13871 entries, 0 to 13870\n",
      "Data columns (total 5 columns):\n",
      " #   Column             Non-Null Count  Dtype \n",
      "---  ------             --------------  ----- \n",
      " 0   candidate          13775 non-null  object\n",
      " 1   sentiment          13871 non-null  object\n",
      " 2   text               13871 non-null  object\n",
      " 3   preprocessed_text  13871 non-null  object\n",
      " 4   sentiment_num      13871 non-null  int64 \n",
      "dtypes: int64(1), object(4)\n",
      "memory usage: 542.0+ KB\n"
     ]
    }
   ],
   "source": [
    "df.info()"
   ]
  },
  {
   "cell_type": "markdown",
   "metadata": {},
   "source": [
    "* **Retaining Columns: We retain the candidate, sentiment, and text columns, which contain the sentiment labels and tweet content.**\n",
    "* **Dataset Inspection: We check the structure of the dataset and the distribution of sentiment values using df.info()**"
   ]
  },
  {
   "cell_type": "markdown",
   "metadata": {},
   "source": [
    "### 2. **Data Preprocessing**\n",
    "Data preprocessing is crucial for cleaning and preparing the text data for NLP tasks. This includes several sub-steps:"
   ]
  },
  {
   "cell_type": "markdown",
   "metadata": {},
   "source": [
    "#### 2.1 Text Cleaning\n",
    "In this step, HTML tags, contractions, non-alphabetic characters, and stopwords are removed. The text is also converted to lowercase and tokenized."
   ]
  },
  {
   "cell_type": "code",
   "execution_count": 4,
   "metadata": {},
   "outputs": [],
   "source": [
    "# Step 2: Preprocessing\n",
    "def strip_html(text):\n",
    "    soup = BeautifulSoup(text, \"html.parser\")\n",
    "    return soup.get_text()\n",
    "\n",
    "def replace_contraction(text):\n",
    "    return contractions.fix(text)\n",
    "\n",
    "def clean_text(text):\n",
    "    text = re.sub(r'RT', \" \", text)\n",
    "    text = re.sub(r'[^A-Za-z\\s]', \" \", text)\n",
    "    text = text.lower()\n",
    "    text = re.sub(r\"\\d+\", \" \", text)\n",
    "    return text"
   ]
  },
  {
   "cell_type": "markdown",
   "metadata": {},
   "source": [
    "* **HTML Stripping:** `HTML` tags are removed from the tweets using BeautifulSoup.\n",
    "* **Contraction Expansion:** Contractions like `\"don't\"` are expanded to `\"do not\"` using the contractions library.\n",
    "* **Cleaning Non-Alphabetic Characters:** Non-alphabetic characters, like special symbols and numbers, are removed.\n",
    "* **Lowercasing:** The text is converted to lowercase for uniformity.\n",
    "* **Removing Retweets:** Any occurrence of `\"RT\"` (Retweet) is removed."
   ]
  },
  {
   "cell_type": "markdown",
   "metadata": {},
   "source": [
    "#### 2.2 Stopword Removal & Lemmatization\n",
    "Stopwords `(commonly used words like \"the\", \"is\", etc.)` are removed, and the words are lemmatized to their base form."
   ]
  },
  {
   "cell_type": "code",
   "execution_count": null,
   "metadata": {},
   "outputs": [],
   "source": [
    "def remove_stopwords(text):\n",
    "    stop_words = set(stopwords.words(\"english\"))\n",
    "    return [word for word in text if word not in stop_words]\n",
    "\n",
    "def lemmatize(text):\n",
    "    lemmatizer = WordNetLemmatizer()\n",
    "    return [lemmatizer.lemmatize(word, pos=\"v\") for word in text]"
   ]
  },
  {
   "cell_type": "markdown",
   "metadata": {},
   "source": [
    "* Stopword Removal: Words that do not contribute to the meaning of the sentence are removed.\n",
    "* Lemmatization: Words are reduced to their base form, e.g., `\"running\"` becomes `\"run\"`"
   ]
  },
  {
   "cell_type": "markdown",
   "metadata": {},
   "source": [
    "#### 2.3 Normalizing Text\n",
    "Finally, the text is normalized by removing stopwords and lemmatizing the words."
   ]
  },
  {
   "cell_type": "code",
   "execution_count": null,
   "metadata": {},
   "outputs": [],
   "source": [
    "def normalize(text):\n",
    "    words = remove_stopwords(text)\n",
    "    words = lemmatize(words)\n",
    "    return \" \".join(words)"
   ]
  },
  {
   "cell_type": "markdown",
   "metadata": {},
   "source": [
    "Normalization: A combination of removing stopwords and lemmatization is applied to normalize the text."
   ]
  },
  {
   "cell_type": "code",
   "execution_count": null,
   "metadata": {},
   "outputs": [],
   "source": [
    "## Apply Text Preprocessing\n",
    "df[\"preprocessed_text\"] = df[\"text\"].apply(strip_html).apply(replace_contraction).apply(clean_text)\n",
    "df[\"preprocessed_text\"] = df[\"preprocessed_text\"].apply(nltk.word_tokenize).apply(normalize)"
   ]
  },
  {
   "cell_type": "markdown",
   "metadata": {},
   "source": [
    "### 3. Mapping Sentiment Labels to Numeric Values\n",
    "We map the sentiment labels (`Negative`, `Neutral`, `Positive`) to numeric values (`0, 1, 2`) so that they can be used in machine learning models."
   ]
  },
  {
   "cell_type": "code",
   "execution_count": 6,
   "metadata": {},
   "outputs": [
    {
     "data": {
      "text/html": [
       "<div>\n",
       "<style scoped>\n",
       "    .dataframe tbody tr th:only-of-type {\n",
       "        vertical-align: middle;\n",
       "    }\n",
       "\n",
       "    .dataframe tbody tr th {\n",
       "        vertical-align: top;\n",
       "    }\n",
       "\n",
       "    .dataframe thead th {\n",
       "        text-align: right;\n",
       "    }\n",
       "</style>\n",
       "<table border=\"1\" class=\"dataframe\">\n",
       "  <thead>\n",
       "    <tr style=\"text-align: right;\">\n",
       "      <th></th>\n",
       "      <th>candidate</th>\n",
       "      <th>sentiment</th>\n",
       "      <th>text</th>\n",
       "      <th>preprocessed_text</th>\n",
       "      <th>sentiment_num</th>\n",
       "    </tr>\n",
       "  </thead>\n",
       "  <tbody>\n",
       "    <tr>\n",
       "      <th>0</th>\n",
       "      <td>No candidate mentioned</td>\n",
       "      <td>Neutral</td>\n",
       "      <td>RT @NancyLeeGrahn: How did everyone feel about...</td>\n",
       "      <td>nancyleegrahn everyone feel climate change que...</td>\n",
       "      <td>1</td>\n",
       "    </tr>\n",
       "    <tr>\n",
       "      <th>1</th>\n",
       "      <td>Scott Walker</td>\n",
       "      <td>Positive</td>\n",
       "      <td>RT @ScottWalker: Didn't catch the full #GOPdeb...</td>\n",
       "      <td>scottwalker catch full gopdebate last night sc...</td>\n",
       "      <td>2</td>\n",
       "    </tr>\n",
       "    <tr>\n",
       "      <th>2</th>\n",
       "      <td>No candidate mentioned</td>\n",
       "      <td>Neutral</td>\n",
       "      <td>RT @TJMShow: No mention of Tamir Rice and the ...</td>\n",
       "      <td>tjmshow mention tamir rice gopdebate hold clev...</td>\n",
       "      <td>1</td>\n",
       "    </tr>\n",
       "    <tr>\n",
       "      <th>3</th>\n",
       "      <td>No candidate mentioned</td>\n",
       "      <td>Positive</td>\n",
       "      <td>RT @RobGeorge: That Carly Fiorina is trending ...</td>\n",
       "      <td>robgeorge carly fiorina trend hours debate men...</td>\n",
       "      <td>2</td>\n",
       "    </tr>\n",
       "    <tr>\n",
       "      <th>4</th>\n",
       "      <td>Donald Trump</td>\n",
       "      <td>Positive</td>\n",
       "      <td>RT @DanScavino: #GOPDebate w/ @realDonaldTrump...</td>\n",
       "      <td>danscavino gopdebate w realdonaldtrump deliver...</td>\n",
       "      <td>2</td>\n",
       "    </tr>\n",
       "    <tr>\n",
       "      <th>...</th>\n",
       "      <td>...</td>\n",
       "      <td>...</td>\n",
       "      <td>...</td>\n",
       "      <td>...</td>\n",
       "      <td>...</td>\n",
       "    </tr>\n",
       "    <tr>\n",
       "      <th>13866</th>\n",
       "      <td>No candidate mentioned</td>\n",
       "      <td>Negative</td>\n",
       "      <td>RT @cappy_yarbrough: Love to see men who will ...</td>\n",
       "      <td>cappy yarbrough love see men never face pregna...</td>\n",
       "      <td>0</td>\n",
       "    </tr>\n",
       "    <tr>\n",
       "      <th>13867</th>\n",
       "      <td>Mike Huckabee</td>\n",
       "      <td>Positive</td>\n",
       "      <td>RT @georgehenryw: Who thought Huckabee exceede...</td>\n",
       "      <td>georgehenryw think huckabee exceed expectation...</td>\n",
       "      <td>2</td>\n",
       "    </tr>\n",
       "    <tr>\n",
       "      <th>13868</th>\n",
       "      <td>Ted Cruz</td>\n",
       "      <td>Positive</td>\n",
       "      <td>RT @Lrihendry: #TedCruz As President, I will a...</td>\n",
       "      <td>lrihendry tedcruz president always tell truth ...</td>\n",
       "      <td>2</td>\n",
       "    </tr>\n",
       "    <tr>\n",
       "      <th>13869</th>\n",
       "      <td>Donald Trump</td>\n",
       "      <td>Negative</td>\n",
       "      <td>RT @JRehling: #GOPDebate Donald Trump says tha...</td>\n",
       "      <td>jrehling gopdebate donald trump say time polit...</td>\n",
       "      <td>0</td>\n",
       "    </tr>\n",
       "    <tr>\n",
       "      <th>13870</th>\n",
       "      <td>Ted Cruz</td>\n",
       "      <td>Positive</td>\n",
       "      <td>RT @Lrihendry: #TedCruz headed into the Presid...</td>\n",
       "      <td>lrihendry tedcruz head presidential debate go ...</td>\n",
       "      <td>2</td>\n",
       "    </tr>\n",
       "  </tbody>\n",
       "</table>\n",
       "<p>13871 rows × 5 columns</p>\n",
       "</div>"
      ],
      "text/plain": [
       "                    candidate sentiment  \\\n",
       "0      No candidate mentioned   Neutral   \n",
       "1                Scott Walker  Positive   \n",
       "2      No candidate mentioned   Neutral   \n",
       "3      No candidate mentioned  Positive   \n",
       "4                Donald Trump  Positive   \n",
       "...                       ...       ...   \n",
       "13866  No candidate mentioned  Negative   \n",
       "13867           Mike Huckabee  Positive   \n",
       "13868                Ted Cruz  Positive   \n",
       "13869            Donald Trump  Negative   \n",
       "13870                Ted Cruz  Positive   \n",
       "\n",
       "                                                    text  \\\n",
       "0      RT @NancyLeeGrahn: How did everyone feel about...   \n",
       "1      RT @ScottWalker: Didn't catch the full #GOPdeb...   \n",
       "2      RT @TJMShow: No mention of Tamir Rice and the ...   \n",
       "3      RT @RobGeorge: That Carly Fiorina is trending ...   \n",
       "4      RT @DanScavino: #GOPDebate w/ @realDonaldTrump...   \n",
       "...                                                  ...   \n",
       "13866  RT @cappy_yarbrough: Love to see men who will ...   \n",
       "13867  RT @georgehenryw: Who thought Huckabee exceede...   \n",
       "13868  RT @Lrihendry: #TedCruz As President, I will a...   \n",
       "13869  RT @JRehling: #GOPDebate Donald Trump says tha...   \n",
       "13870  RT @Lrihendry: #TedCruz headed into the Presid...   \n",
       "\n",
       "                                       preprocessed_text  sentiment_num  \n",
       "0      nancyleegrahn everyone feel climate change que...              1  \n",
       "1      scottwalker catch full gopdebate last night sc...              2  \n",
       "2      tjmshow mention tamir rice gopdebate hold clev...              1  \n",
       "3      robgeorge carly fiorina trend hours debate men...              2  \n",
       "4      danscavino gopdebate w realdonaldtrump deliver...              2  \n",
       "...                                                  ...            ...  \n",
       "13866  cappy yarbrough love see men never face pregna...              0  \n",
       "13867  georgehenryw think huckabee exceed expectation...              2  \n",
       "13868  lrihendry tedcruz president always tell truth ...              2  \n",
       "13869  jrehling gopdebate donald trump say time polit...              0  \n",
       "13870  lrihendry tedcruz head presidential debate go ...              2  \n",
       "\n",
       "[13871 rows x 5 columns]"
      ]
     },
     "execution_count": 6,
     "metadata": {},
     "output_type": "execute_result"
    }
   ],
   "source": [
    "# Map sentiment labels to numeric values\n",
    "df[\"sentiment_num\"] = df[\"sentiment\"].map({\"Negative\": 0, \"Neutral\": 1, \"Positive\": 2})\n",
    "df"
   ]
  },
  {
   "cell_type": "markdown",
   "metadata": {},
   "source": [
    "`Sentiment Mapping:` The sentiment column is mapped to numeric values (0, 1, 2)."
   ]
  },
  {
   "cell_type": "markdown",
   "metadata": {},
   "source": [
    "### 4. Tokenization and Padding\n",
    "To feed the text data into the neural network, we need to convert the words into numerical representations. Tokenization converts words into integers, and padding ensures that all input sequences have the same length."
   ]
  },
  {
   "cell_type": "code",
   "execution_count": 7,
   "metadata": {},
   "outputs": [],
   "source": [
    "# One-hot encode the sentiment labels\n",
    "y = to_categorical(df[\"sentiment_num\"], 3)"
   ]
  },
  {
   "cell_type": "code",
   "execution_count": 8,
   "metadata": {},
   "outputs": [],
   "source": [
    "# Tokenization and padding\n",
    "tokenizer = Tokenizer(num_words=10000)\n",
    "tokenizer.fit_on_texts(df[\"preprocessed_text\"])\n",
    "sequences = tokenizer.texts_to_sequences(df[\"preprocessed_text\"])\n",
    "padded_sequences = pad_sequences(sequences, maxlen=24, padding=\"post\", truncating=\"post\")"
   ]
  },
  {
   "cell_type": "markdown",
   "metadata": {},
   "source": [
    "* `Tokenization`: The Tokenizer converts words into numerical indices.\n",
    "* `Padding`: Sequences are padded to a fixed length (24 in this case), ensuring all sequences are the same size."
   ]
  },
  {
   "cell_type": "markdown",
   "metadata": {},
   "source": [
    "### 5. Train-Test Split\n",
    "The data is split into training and testing sets, with 80% used for training and 20% used for testing."
   ]
  },
  {
   "cell_type": "code",
   "execution_count": 27,
   "metadata": {},
   "outputs": [],
   "source": [
    "# Split the data\n",
    "x_train, x_test, y_train, y_test = train_test_split(padded_sequences, y, test_size=0.2, random_state=100, stratify = y)"
   ]
  },
  {
   "cell_type": "markdown",
   "metadata": {},
   "source": [
    "Train-Test Split: This ensures that the model is trained on one set of data and evaluated on a separate set to assess its generalization ability."
   ]
  },
  {
   "cell_type": "markdown",
   "metadata": {},
   "source": [
    "### 6. **Word2Vec Embeddings**\n",
    "\n",
    "*  Trains a Word2Vec model on our text data\n",
    "*  Creates an embedding matrix for our vocabulary\n",
    "*  Maps Word2Vec vectors to our embedding matrix\n",
    "*  Handles unknown words with random initialization"
   ]
  },
  {
   "cell_type": "code",
   "execution_count": 67,
   "metadata": {},
   "outputs": [],
   "source": [
    "# Convert preprocessed text back to tokenized word lists (if necessary)\n",
    "tokenized_text = [text.split() for text in df[\"preprocessed_text\"]]"
   ]
  },
  {
   "cell_type": "code",
   "execution_count": 29,
   "metadata": {},
   "outputs": [
    {
     "data": {
      "text/plain": [
       "<gensim.models.word2vec.Word2Vec at 0x22da7a75eb0>"
      ]
     },
     "execution_count": 29,
     "metadata": {},
     "output_type": "execute_result"
    }
   ],
   "source": [
    "# Train a Word2Vec model on the tokenized text\n",
    "word2vec_model = Word2Vec(sentences=tokenized_text, vector_size=100, window=5, min_count=1, workers=4)\n",
    "word2vec_model"
   ]
  },
  {
   "cell_type": "code",
   "execution_count": 30,
   "metadata": {},
   "outputs": [],
   "source": [
    "embedding_dim = 100  # Match the vector_size of Word2Vec\n",
    "word_index = tokenizer.word_index  # Use the tokenizer's word-to-index mapping\n",
    "embedding_matrix = np.zeros((len(word_index) + 1, embedding_dim))"
   ]
  },
  {
   "cell_type": "markdown",
   "metadata": {},
   "source": [
    "### 7. Creating the Embedding Matrix\n",
    "We create an embedding matrix that holds pre-trained word embeddings. Each word in the dataset is represented by its embedding vector."
   ]
  },
  {
   "cell_type": "code",
   "execution_count": 31,
   "metadata": {},
   "outputs": [],
   "source": [
    "# Map Word2Vec embeddings to the embedding matrix\n",
    "for word, i in word_index.items():\n",
    "    if word in word2vec_model.wv:  # Check if the word exists in the Word2Vec vocabulary\n",
    "        embedding_matrix[i] = word2vec_model.wv[word]\n",
    "    else:\n",
    "        # For words not in the Word2Vec model, leave the row as zeros or use random initialization\n",
    "        embedding_matrix[i] = np.random.uniform(-0.1, 0.1, embedding_dim)"
   ]
  },
  {
   "cell_type": "markdown",
   "metadata": {},
   "source": [
    "### 8. **Building the LSTM Model (Build and Compile Model)**\n",
    "we use an LSTM-based deep learning model to classify the sentiment of the tweets. LSTMs (Long Short-Term Memory networks) are a type of recurrent neural network (RNN) well-suited for sequence data like text.\n",
    "* An Embedding layer initialized with our Word2Vec embeddings\n",
    "* Two LSTM layers for sequence processing\n",
    "* SpatialDropout1D layers to prevent overfitting\n",
    "* A Dense layer with softmax activation for classification"
   ]
  },
  {
   "cell_type": "code",
   "execution_count": 32,
   "metadata": {},
   "outputs": [],
   "source": [
    "model = keras.Sequential([\n",
    "    keras.layers.Embedding(input_dim=len(word_index) + 1, \n",
    "              output_dim=embedding_dim, \n",
    "              weights=[embedding_matrix], \n",
    "              trainable=False),  \n",
    "    keras.layers.SpatialDropout1D(0.3),\n",
    "    keras.layers.LSTM(units=64, activation=\"tanh\", return_sequences=True),\n",
    "    keras.layers.SpatialDropout1D(0.2),\n",
    "    keras.layers.LSTM(units=16, activation=\"tanh\"),\n",
    "    keras.layers.Dense(3, activation=\"softmax\")\n",
    "])"
   ]
  },
  {
   "cell_type": "markdown",
   "metadata": {},
   "source": [
    "**Model Architecture:** The model includes an embedding layer with pre-trained word embeddings, followed by LSTM layers and a final dense layer with softmax activation for classification."
   ]
  },
  {
   "cell_type": "markdown",
   "metadata": {},
   "source": [
    "### 9. Model Compilation and Training\n",
    "We compile the model with the Adam optimizer and categorical cross-entropy loss function. The model is then trained for 20 epochs.\n",
    "\n",
    "* `Compilation:` The model is compiled with an optimizer, loss function, and evaluation metrics.\n",
    "* `Training:` The model is trained on the training data with validation."
   ]
  },
  {
   "cell_type": "code",
   "execution_count": 33,
   "metadata": {},
   "outputs": [],
   "source": [
    "model.compile(optimizer=keras.optimizers.Adam(learning_rate=0.001),\n",
    "                loss=\"categorical_crossentropy\",\n",
    "                metrics=[\"accuracy\"])"
   ]
  },
  {
   "cell_type": "code",
   "execution_count": 34,
   "metadata": {},
   "outputs": [
    {
     "name": "stdout",
     "output_type": "stream",
     "text": [
      "Epoch 1/30\n",
      "\u001b[1m555/555\u001b[0m \u001b[32m━━━━━━━━━━━━━━━━━━━━\u001b[0m\u001b[37m\u001b[0m \u001b[1m15s\u001b[0m 18ms/step - accuracy: 0.5931 - loss: 0.9357 - val_accuracy: 0.6297 - val_loss: 0.8741\n",
      "Epoch 2/30\n",
      "\u001b[1m555/555\u001b[0m \u001b[32m━━━━━━━━━━━━━━━━━━━━\u001b[0m\u001b[37m\u001b[0m \u001b[1m10s\u001b[0m 17ms/step - accuracy: 0.6140 - loss: 0.8987 - val_accuracy: 0.6234 - val_loss: 0.8680\n",
      "Epoch 3/30\n",
      "\u001b[1m555/555\u001b[0m \u001b[32m━━━━━━━━━━━━━━━━━━━━\u001b[0m\u001b[37m\u001b[0m \u001b[1m10s\u001b[0m 18ms/step - accuracy: 0.6133 - loss: 0.8915 - val_accuracy: 0.6275 - val_loss: 0.8586\n",
      "Epoch 4/30\n",
      "\u001b[1m555/555\u001b[0m \u001b[32m━━━━━━━━━━━━━━━━━━━━\u001b[0m\u001b[37m\u001b[0m \u001b[1m10s\u001b[0m 18ms/step - accuracy: 0.6176 - loss: 0.8753 - val_accuracy: 0.6374 - val_loss: 0.8467\n",
      "Epoch 5/30\n",
      "\u001b[1m555/555\u001b[0m \u001b[32m━━━━━━━━━━━━━━━━━━━━\u001b[0m\u001b[37m\u001b[0m \u001b[1m10s\u001b[0m 18ms/step - accuracy: 0.6305 - loss: 0.8626 - val_accuracy: 0.6387 - val_loss: 0.8592\n",
      "Epoch 6/30\n",
      "\u001b[1m555/555\u001b[0m \u001b[32m━━━━━━━━━━━━━━━━━━━━\u001b[0m\u001b[37m\u001b[0m \u001b[1m10s\u001b[0m 18ms/step - accuracy: 0.6189 - loss: 0.8739 - val_accuracy: 0.6401 - val_loss: 0.8416\n",
      "Epoch 7/30\n",
      "\u001b[1m555/555\u001b[0m \u001b[32m━━━━━━━━━━━━━━━━━━━━\u001b[0m\u001b[37m\u001b[0m \u001b[1m10s\u001b[0m 18ms/step - accuracy: 0.6255 - loss: 0.8516 - val_accuracy: 0.6464 - val_loss: 0.8353\n",
      "Epoch 8/30\n",
      "\u001b[1m555/555\u001b[0m \u001b[32m━━━━━━━━━━━━━━━━━━━━\u001b[0m\u001b[37m\u001b[0m \u001b[1m10s\u001b[0m 18ms/step - accuracy: 0.6282 - loss: 0.8587 - val_accuracy: 0.6482 - val_loss: 0.8351\n",
      "Epoch 9/30\n",
      "\u001b[1m555/555\u001b[0m \u001b[32m━━━━━━━━━━━━━━━━━━━━\u001b[0m\u001b[37m\u001b[0m \u001b[1m10s\u001b[0m 18ms/step - accuracy: 0.6371 - loss: 0.8420 - val_accuracy: 0.6491 - val_loss: 0.8208\n",
      "Epoch 10/30\n",
      "\u001b[1m555/555\u001b[0m \u001b[32m━━━━━━━━━━━━━━━━━━━━\u001b[0m\u001b[37m\u001b[0m \u001b[1m10s\u001b[0m 18ms/step - accuracy: 0.6292 - loss: 0.8426 - val_accuracy: 0.6509 - val_loss: 0.8220\n",
      "Epoch 11/30\n",
      "\u001b[1m555/555\u001b[0m \u001b[32m━━━━━━━━━━━━━━━━━━━━\u001b[0m\u001b[37m\u001b[0m \u001b[1m10s\u001b[0m 18ms/step - accuracy: 0.6429 - loss: 0.8197 - val_accuracy: 0.6554 - val_loss: 0.8164\n",
      "Epoch 12/30\n",
      "\u001b[1m555/555\u001b[0m \u001b[32m━━━━━━━━━━━━━━━━━━━━\u001b[0m\u001b[37m\u001b[0m \u001b[1m10s\u001b[0m 18ms/step - accuracy: 0.6448 - loss: 0.8287 - val_accuracy: 0.6568 - val_loss: 0.8134\n",
      "Epoch 13/30\n",
      "\u001b[1m555/555\u001b[0m \u001b[32m━━━━━━━━━━━━━━━━━━━━\u001b[0m\u001b[37m\u001b[0m \u001b[1m10s\u001b[0m 19ms/step - accuracy: 0.6414 - loss: 0.8204 - val_accuracy: 0.6622 - val_loss: 0.8083\n",
      "Epoch 14/30\n",
      "\u001b[1m555/555\u001b[0m \u001b[32m━━━━━━━━━━━━━━━━━━━━\u001b[0m\u001b[37m\u001b[0m \u001b[1m10s\u001b[0m 19ms/step - accuracy: 0.6558 - loss: 0.8074 - val_accuracy: 0.6595 - val_loss: 0.8049\n",
      "Epoch 15/30\n",
      "\u001b[1m555/555\u001b[0m \u001b[32m━━━━━━━━━━━━━━━━━━━━\u001b[0m\u001b[37m\u001b[0m \u001b[1m10s\u001b[0m 19ms/step - accuracy: 0.6469 - loss: 0.8135 - val_accuracy: 0.6613 - val_loss: 0.8177\n",
      "Epoch 16/30\n",
      "\u001b[1m555/555\u001b[0m \u001b[32m━━━━━━━━━━━━━━━━━━━━\u001b[0m\u001b[37m\u001b[0m \u001b[1m10s\u001b[0m 19ms/step - accuracy: 0.6430 - loss: 0.8253 - val_accuracy: 0.6559 - val_loss: 0.8164\n",
      "Epoch 17/30\n",
      "\u001b[1m555/555\u001b[0m \u001b[32m━━━━━━━━━━━━━━━━━━━━\u001b[0m\u001b[37m\u001b[0m \u001b[1m10s\u001b[0m 19ms/step - accuracy: 0.6553 - loss: 0.8016 - val_accuracy: 0.6586 - val_loss: 0.8103\n",
      "Epoch 18/30\n",
      "\u001b[1m555/555\u001b[0m \u001b[32m━━━━━━━━━━━━━━━━━━━━\u001b[0m\u001b[37m\u001b[0m \u001b[1m11s\u001b[0m 19ms/step - accuracy: 0.6484 - loss: 0.8090 - val_accuracy: 0.6559 - val_loss: 0.8079\n",
      "Epoch 19/30\n",
      "\u001b[1m555/555\u001b[0m \u001b[32m━━━━━━━━━━━━━━━━━━━━\u001b[0m\u001b[37m\u001b[0m \u001b[1m11s\u001b[0m 19ms/step - accuracy: 0.6473 - loss: 0.8069 - val_accuracy: 0.6545 - val_loss: 0.8020\n",
      "Epoch 20/30\n",
      "\u001b[1m555/555\u001b[0m \u001b[32m━━━━━━━━━━━━━━━━━━━━\u001b[0m\u001b[37m\u001b[0m \u001b[1m10s\u001b[0m 19ms/step - accuracy: 0.6499 - loss: 0.7980 - val_accuracy: 0.6626 - val_loss: 0.8007\n",
      "Epoch 21/30\n",
      "\u001b[1m555/555\u001b[0m \u001b[32m━━━━━━━━━━━━━━━━━━━━\u001b[0m\u001b[37m\u001b[0m \u001b[1m10s\u001b[0m 19ms/step - accuracy: 0.6529 - loss: 0.8049 - val_accuracy: 0.6604 - val_loss: 0.8051\n",
      "Epoch 22/30\n",
      "\u001b[1m555/555\u001b[0m \u001b[32m━━━━━━━━━━━━━━━━━━━━\u001b[0m\u001b[37m\u001b[0m \u001b[1m10s\u001b[0m 19ms/step - accuracy: 0.6638 - loss: 0.7800 - val_accuracy: 0.6595 - val_loss: 0.8031\n",
      "Epoch 23/30\n",
      "\u001b[1m555/555\u001b[0m \u001b[32m━━━━━━━━━━━━━━━━━━━━\u001b[0m\u001b[37m\u001b[0m \u001b[1m20s\u001b[0m 18ms/step - accuracy: 0.6572 - loss: 0.7894 - val_accuracy: 0.6649 - val_loss: 0.8093\n",
      "Epoch 24/30\n",
      "\u001b[1m555/555\u001b[0m \u001b[32m━━━━━━━━━━━━━━━━━━━━\u001b[0m\u001b[37m\u001b[0m \u001b[1m10s\u001b[0m 18ms/step - accuracy: 0.6632 - loss: 0.7890 - val_accuracy: 0.6536 - val_loss: 0.8027\n",
      "Epoch 25/30\n",
      "\u001b[1m555/555\u001b[0m \u001b[32m━━━━━━━━━━━━━━━━━━━━\u001b[0m\u001b[37m\u001b[0m \u001b[1m11s\u001b[0m 20ms/step - accuracy: 0.6651 - loss: 0.7738 - val_accuracy: 0.6631 - val_loss: 0.8069\n",
      "Epoch 26/30\n",
      "\u001b[1m555/555\u001b[0m \u001b[32m━━━━━━━━━━━━━━━━━━━━\u001b[0m\u001b[37m\u001b[0m \u001b[1m11s\u001b[0m 19ms/step - accuracy: 0.6631 - loss: 0.7848 - val_accuracy: 0.6563 - val_loss: 0.8115\n",
      "Epoch 27/30\n",
      "\u001b[1m555/555\u001b[0m \u001b[32m━━━━━━━━━━━━━━━━━━━━\u001b[0m\u001b[37m\u001b[0m \u001b[1m11s\u001b[0m 19ms/step - accuracy: 0.6665 - loss: 0.7754 - val_accuracy: 0.6613 - val_loss: 0.8062\n",
      "Epoch 28/30\n",
      "\u001b[1m555/555\u001b[0m \u001b[32m━━━━━━━━━━━━━━━━━━━━\u001b[0m\u001b[37m\u001b[0m \u001b[1m10s\u001b[0m 19ms/step - accuracy: 0.6607 - loss: 0.7812 - val_accuracy: 0.6599 - val_loss: 0.8068\n",
      "Epoch 29/30\n",
      "\u001b[1m555/555\u001b[0m \u001b[32m━━━━━━━━━━━━━━━━━━━━\u001b[0m\u001b[37m\u001b[0m \u001b[1m10s\u001b[0m 19ms/step - accuracy: 0.6616 - loss: 0.7719 - val_accuracy: 0.6658 - val_loss: 0.8037\n",
      "Epoch 30/30\n",
      "\u001b[1m555/555\u001b[0m \u001b[32m━━━━━━━━━━━━━━━━━━━━\u001b[0m\u001b[37m\u001b[0m \u001b[1m11s\u001b[0m 19ms/step - accuracy: 0.6571 - loss: 0.7777 - val_accuracy: 0.6595 - val_loss: 0.8055\n"
     ]
    }
   ],
   "source": [
    "history = model.fit(x_train, y_train, batch_size=16, epochs=30, validation_split=0.2)"
   ]
  },
  {
   "cell_type": "markdown",
   "metadata": {},
   "source": [
    "### 10. **Model Evaluation and Visualization**\n",
    "After training the model, we evaluate its performance on the test set and visualize training vs. validation accuracy and loss."
   ]
  },
  {
   "cell_type": "code",
   "execution_count": 35,
   "metadata": {},
   "outputs": [
    {
     "data": {
      "image/png": "[encoded data removed]",
      "text/plain": [
       "<Figure size 1000x600 with 2 Axes>"
      ]
     },
     "metadata": {},
     "output_type": "display_data"
    }
   ],
   "source": [
    "plt.figure(figsize = (10,6))\n",
    "plt.subplot(1,2,1)\n",
    "plt.plot(history.history[\"accuracy\"], label = \"Training Accuracy\")\n",
    "plt.plot(history.history[\"val_accuracy\"], label = \"Validation_accuracy\")\n",
    "plt.xlabel(\"Epochs\")\n",
    "plt.ylabel(\"accuracy\")\n",
    "plt.title(\"Training vs Validation Accuracy\")\n",
    "plt.legend()\n",
    "\n",
    "plt.subplot(1,2,2)\n",
    "plt.plot(history.history[\"loss\"], label = \"Training Loss\")\n",
    "plt.plot(history.history[\"val_loss\"], label = \"Validation Loss\")\n",
    "plt.xlabel(\"Epochs\")\n",
    "plt.ylabel(\"Loss\")\n",
    "plt.title(\"Training vs Validation Loss\")\n",
    "plt.legend()\n",
    "plt.tight_layout()\n",
    "plt.show()"
   ]
  },
  {
   "cell_type": "markdown",
   "metadata": {},
   "source": [
    "* `Visualization:` We plot the training and validation accuracy/loss curves to evaluate model performance visually.\n",
    "* `Evaluation:` We evaluate the model on the test data to get the loss and accuracy metrics."
   ]
  },
  {
   "cell_type": "code",
   "execution_count": 36,
   "metadata": {},
   "outputs": [
    {
     "name": "stdout",
     "output_type": "stream",
     "text": [
      "\u001b[1m87/87\u001b[0m \u001b[32m━━━━━━━━━━━━━━━━━━━━\u001b[0m\u001b[37m\u001b[0m \u001b[1m1s\u001b[0m 9ms/step - accuracy: 0.6475 - loss: 0.8118\n",
      "Test Loss: 0.815169095993042, Test Accuracy: 0.6418017745018005\n"
     ]
    }
   ],
   "source": [
    "# Evaluate model\n",
    "loss, accuracy = model.evaluate(x_test, y_test)\n",
    "print(f\"Test Loss: {loss}, Test Accuracy: {accuracy}\")"
   ]
  },
  {
   "cell_type": "code",
   "execution_count": 37,
   "metadata": {},
   "outputs": [
    {
     "name": "stdout",
     "output_type": "stream",
     "text": [
      "\u001b[1m87/87\u001b[0m \u001b[32m━━━━━━━━━━━━━━━━━━━━\u001b[0m\u001b[37m\u001b[0m \u001b[1m1s\u001b[0m 7ms/step\n"
     ]
    }
   ],
   "source": [
    "# Predictions\n",
    "y_pred = model_2.predict(x_test)\n",
    "y_prediction = [np.argmax(x) for x in y_pred]\n",
    "y_actual = [np.argmax(x) for x in y_test]"
   ]
  },
  {
   "cell_type": "code",
   "execution_count": 38,
   "metadata": {},
   "outputs": [
    {
     "name": "stdout",
     "output_type": "stream",
     "text": [
      "              precision    recall  f1-score   support\n",
      "\n",
      "           0       0.47      0.01      0.02      1699\n",
      "           1       0.23      0.93      0.37       629\n",
      "           2       0.10      0.05      0.07       447\n",
      "\n",
      "    accuracy                           0.22      2775\n",
      "   macro avg       0.27      0.33      0.15      2775\n",
      "weighted avg       0.36      0.22      0.11      2775\n",
      "\n"
     ]
    }
   ],
   "source": [
    "# Classification report\n",
    "print(classification_report(y_actual, y_prediction))"
   ]
  },
  {
   "cell_type": "markdown",
   "metadata": {},
   "source": [
    "### 11. Further Improvement with spaCy Pre-Trained Embeddings\n",
    "- Use spaCy's `en_core_web_lg` model for embeddings.\n",
    "- Create an embedding matrix for the vocabulary in the dataset.\n"
   ]
  },
  {
   "cell_type": "code",
   "execution_count": 49,
   "metadata": {},
   "outputs": [],
   "source": [
    "import spacy"
   ]
  },
  {
   "cell_type": "code",
   "execution_count": 50,
   "metadata": {},
   "outputs": [],
   "source": [
    "# Load spaCy model\n",
    "nlp = spacy.load(\"en_core_web_lg\")\n",
    "embedding_dim = nlp.vocab.vectors_length"
   ]
  },
  {
   "cell_type": "code",
   "execution_count": 51,
   "metadata": {},
   "outputs": [],
   "source": [
    "# Create embedding matrix\n",
    "word_index = tokenizer.word_index\n",
    "embedding_matrix = np.zeros((len(word_index) + 1, embedding_dim))"
   ]
  },
  {
   "cell_type": "code",
   "execution_count": 52,
   "metadata": {},
   "outputs": [],
   "source": [
    "for word, i in word_index.items():\n",
    "    if word in nlp.vocab:\n",
    "        embedding_matrix[i] = nlp.vocab[word].vector\n",
    "    else:\n",
    "        embedding_matrix[i] = np.random.uniform(-0.1, 0.1, embedding_dim)"
   ]
  },
  {
   "cell_type": "markdown",
   "metadata": {},
   "source": [
    "#### 11.1. **Model Development**\n",
    "Create a deep learning model with the following architecture:\n",
    "- Build an Bidirectional LSTM-based model.\n",
    "- Use the pre-trained embeddings from spaCy.\n",
    "- Layers include:\n",
    "  - Embedding Layer (non-trainable)\n",
    "  - LSTM Layers with Spatial Dropout\n",
    "  - Dense Layer for classification."
   ]
  },
  {
   "cell_type": "code",
   "execution_count": 63,
   "metadata": {},
   "outputs": [],
   "source": [
    "# Callbacks\n",
    "early_stopping = EarlyStopping(monitor=\"val_loss\", patience=5, restore_best_weights=True)\n",
    "lr_sch = ReduceLROnPlateau(monitor=\"val_loss\", factor=0.1, patience=3, min_lr=1e-6)"
   ]
  },
  {
   "cell_type": "code",
   "execution_count": 64,
   "metadata": {},
   "outputs": [],
   "source": [
    "from tensorflow.keras import regularizers\n",
    "\n",
    "model = keras.Sequential([\n",
    "    # Embedding Layer - kept the same but added dropout\n",
    "    keras.layers.Embedding(input_dim=len(word_index) + 1, output_dim=embedding_dim,  weights=[embedding_matrix], trainable=False),\n",
    "    # First LSTM Block\n",
    "    keras.layers.Bidirectional(keras.layers.LSTM(units=128, activation=\"tanh\",return_sequences=True, kernel_regularizer=regularizers.l2(0.01))),\n",
    "    keras.layers.BatchNormalization(),\n",
    "    keras.layers.SpatialDropout1D(0.3),\n",
    "    # Second LSTM Block\n",
    "    keras.layers.Bidirectional(keras.layers.LSTM(units=64, activation=\"tanh\",return_sequences=False, kernel_regularizer=regularizers.l2(0.01))),\n",
    "    keras.layers.BatchNormalization(),\n",
    "    keras.layers.Dropout(0.3),\n",
    "    # Dense Layers\n",
    "    keras.layers.Dense(64, activation=\"relu\"),\n",
    "    keras.layers.Dropout(0.2),\n",
    "    keras.layers.Dense(3, activation=\"softmax\")\n",
    "])\n",
    "\n",
    "# Compile with learning rate scheduling\n",
    "initial_learning_rate = 0.001\n",
    "decay_steps = 1000\n",
    "decay_rate = 0.9\n",
    "\n",
    "lr_schedule = keras.optimizers.schedules.ExponentialDecay(\n",
    "    initial_learning_rate,\n",
    "    decay_steps=decay_steps,\n",
    "    decay_rate=decay_rate,\n",
    "    staircase=True)\n",
    "\n",
    "optimizer = keras.optimizers.Adam(learning_rate=lr_schedule)\n",
    "\n",
    "model.compile(\n",
    "    optimizer=optimizer,\n",
    "    loss=\"categorical_crossentropy\",\n",
    "    metrics=[\"accuracy\"]\n",
    ")"
   ]
  },
  {
   "cell_type": "code",
   "execution_count": 65,
   "metadata": {},
   "outputs": [
    {
     "name": "stdout",
     "output_type": "stream",
     "text": [
      "Epoch 1/30\n",
      "\u001b[1m278/278\u001b[0m \u001b[32m━━━━━━━━━━━━━━━━━━━━\u001b[0m\u001b[37m\u001b[0m \u001b[1m32s\u001b[0m 72ms/step - accuracy: 0.5037 - loss: 7.8793 - val_accuracy: 0.6239 - val_loss: 2.4214\n",
      "Epoch 2/30\n",
      "\u001b[1m278/278\u001b[0m \u001b[32m━━━━━━━━━━━━━━━━━━━━\u001b[0m\u001b[37m\u001b[0m \u001b[1m18s\u001b[0m 65ms/step - accuracy: 0.5949 - loss: 2.0150 - val_accuracy: 0.6365 - val_loss: 1.2903\n",
      "Epoch 3/30\n",
      "\u001b[1m278/278\u001b[0m \u001b[32m━━━━━━━━━━━━━━━━━━━━\u001b[0m\u001b[37m\u001b[0m \u001b[1m19s\u001b[0m 67ms/step - accuracy: 0.6310 - loss: 1.2014 - val_accuracy: 0.6495 - val_loss: 1.0334\n",
      "Epoch 4/30\n",
      "\u001b[1m278/278\u001b[0m \u001b[32m━━━━━━━━━━━━━━━━━━━━\u001b[0m\u001b[37m\u001b[0m \u001b[1m19s\u001b[0m 68ms/step - accuracy: 0.6234 - loss: 1.0296 - val_accuracy: 0.6302 - val_loss: 0.9641\n",
      "Epoch 5/30\n",
      "\u001b[1m278/278\u001b[0m \u001b[32m━━━━━━━━━━━━━━━━━━━━\u001b[0m\u001b[37m\u001b[0m \u001b[1m19s\u001b[0m 69ms/step - accuracy: 0.6272 - loss: 0.9548 - val_accuracy: 0.6482 - val_loss: 0.9225\n",
      "Epoch 6/30\n",
      "\u001b[1m278/278\u001b[0m \u001b[32m━━━━━━━━━━━━━━━━━━━━\u001b[0m\u001b[37m\u001b[0m \u001b[1m19s\u001b[0m 66ms/step - accuracy: 0.6335 - loss: 0.9232 - val_accuracy: 0.6392 - val_loss: 0.9413\n",
      "Epoch 7/30\n",
      "\u001b[1m278/278\u001b[0m \u001b[32m━━━━━━━━━━━━━━━━━━━━\u001b[0m\u001b[37m\u001b[0m \u001b[1m19s\u001b[0m 68ms/step - accuracy: 0.6349 - loss: 0.9189 - val_accuracy: 0.6509 - val_loss: 0.8793\n",
      "Epoch 8/30\n",
      "\u001b[1m278/278\u001b[0m \u001b[32m━━━━━━━━━━━━━━━━━━━━\u001b[0m\u001b[37m\u001b[0m \u001b[1m19s\u001b[0m 68ms/step - accuracy: 0.6461 - loss: 0.8709 - val_accuracy: 0.6441 - val_loss: 0.8849\n",
      "Epoch 9/30\n",
      "\u001b[1m278/278\u001b[0m \u001b[32m━━━━━━━━━━━━━━━━━━━━\u001b[0m\u001b[37m\u001b[0m \u001b[1m19s\u001b[0m 68ms/step - accuracy: 0.6444 - loss: 0.8720 - val_accuracy: 0.6541 - val_loss: 0.8883\n",
      "Epoch 10/30\n",
      "\u001b[1m278/278\u001b[0m \u001b[32m━━━━━━━━━━━━━━━━━━━━\u001b[0m\u001b[37m\u001b[0m \u001b[1m19s\u001b[0m 68ms/step - accuracy: 0.6575 - loss: 0.8696 - val_accuracy: 0.6482 - val_loss: 0.8925\n",
      "Epoch 11/30\n",
      "\u001b[1m278/278\u001b[0m \u001b[32m━━━━━━━━━━━━━━━━━━━━\u001b[0m\u001b[37m\u001b[0m \u001b[1m20s\u001b[0m 70ms/step - accuracy: 0.6465 - loss: 0.8724 - val_accuracy: 0.6419 - val_loss: 0.9038\n",
      "Epoch 12/30\n",
      "\u001b[1m278/278\u001b[0m \u001b[32m━━━━━━━━━━━━━━━━━━━━\u001b[0m\u001b[37m\u001b[0m \u001b[1m20s\u001b[0m 73ms/step - accuracy: 0.6531 - loss: 0.8543 - val_accuracy: 0.6261 - val_loss: 0.9104\n"
     ]
    }
   ],
   "source": [
    "history = model.fit( x_train, y_train, batch_size=32,  epochs=30,validation_split=0.2,  callbacks=[early_stopping])"
   ]
  },
  {
   "cell_type": "code",
   "execution_count": 66,
   "metadata": {},
   "outputs": [
    {
     "data": {
      "image/png": "[encoded data removed]",
      "text/plain": [
       "<Figure size 1000x600 with 2 Axes>"
      ]
     },
     "metadata": {},
     "output_type": "display_data"
    }
   ],
   "source": [
    "plt.figure(figsize = (10,6))\n",
    "plt.subplot(1,2,1)\n",
    "plt.plot(history.history[\"accuracy\"], label = \"Training Accuracy\")\n",
    "plt.plot(history.history[\"val_accuracy\"], label = \"Validation_accuracy\")\n",
    "plt.xlabel(\"Epochs\")\n",
    "plt.ylabel(\"accuracy\")\n",
    "plt.title(\"Training vs Validation Accuracy\")\n",
    "plt.legend()\n",
    "\n",
    "plt.subplot(1,2,2)\n",
    "plt.plot(history.history[\"loss\"], label = \"Training Loss\")\n",
    "plt.plot(history.history[\"val_loss\"], label = \"Validation Loss\")\n",
    "plt.xlabel(\"Epochs\")\n",
    "plt.ylabel(\"Loss\")\n",
    "plt.title(\"Training vs Validation Loss\")\n",
    "plt.legend()\n",
    "plt.tight_layout()\n",
    "plt.show()"
   ]
  },
  {
   "cell_type": "code",
   "execution_count": null,
   "metadata": {},
   "outputs": [],
   "source": []
  }
 ],
 "metadata": {
  "kernelspec": {
   "display_name": "base",
   "language": "python",
   "name": "python3"
  },
  "language_info": {
   "codemirror_mode": {
    "name": "ipython",
    "version": 3
   },
   "file_extension": ".py",
   "mimetype": "text/x-python",
   "name": "python",
   "nbconvert_exporter": "python",
   "pygments_lexer": "ipython3",
   "version": "3.12.7"
  }
 },
 "nbformat": 4,
 "nbformat_minor": 2
}
